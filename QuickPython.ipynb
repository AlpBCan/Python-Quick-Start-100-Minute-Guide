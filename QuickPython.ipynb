{
 "cells": [
  {
   "cell_type": "markdown",
   "id": "7183ea04-1e2c-432d-a999-e0bdf1b87cd2",
   "metadata": {},
   "source": [
    "# Python Basics"
   ]
  },
  {
   "cell_type": "markdown",
   "id": "10de5f58-f850-43b1-a749-44dc7392199f",
   "metadata": {},
   "source": [
    "### Variables and Data Types"
   ]
  },
  {
   "cell_type": "markdown",
   "id": "9dca0239-e1cb-428f-b011-a067ada36d17",
   "metadata": {},
   "source": [
    "##### Variables are used to store information that can be used and manipulated later. Data types: integers, floats, strings, and booleans. "
   ]
  },
  {
   "cell_type": "code",
   "execution_count": 4,
   "id": "cae9251f-535b-4f3b-b057-2c1732cd8872",
   "metadata": {},
   "outputs": [
    {
     "name": "stdout",
     "output_type": "stream",
     "text": [
      "5 3.25 Hi there! False\n"
     ]
    }
   ],
   "source": [
    "# Numbers\n",
    "my_integer = 5\n",
    "my_float = 3.25\n",
    "\n",
    "# Strings\n",
    "greet = \"Hi there!\"\n",
    "\n",
    "# Booleans\n",
    "is_valid = False\n",
    "\n",
    "# Printing variables\n",
    "print(my_integer, my_float, greet, is_valid)"
   ]
  },
  {
   "cell_type": "markdown",
   "id": "3c9393ab-1a44-49b8-9e65-763b0d313903",
   "metadata": {},
   "source": [
    "### Basic Operators"
   ]
  },
  {
   "cell_type": "markdown",
   "id": "0137a9b5-f7ad-4848-84e9-2501874122c1",
   "metadata": {},
   "source": [
    "##### Operators allow us to perform calculations and logical operations. There are arithmetic operators for mathematical operations, comparison operators for comparing values, and logical operators for combining boolean expressions."
   ]
  },
  {
   "cell_type": "code",
   "execution_count": 62,
   "id": "ccb51654-769b-4b5b-8345-8d25544aa967",
   "metadata": {},
   "outputs": [
    {
     "name": "stdout",
     "output_type": "stream",
     "text": [
      "8.25 1.75 16.25 1.5384615384615385\n",
      "False True\n",
      "False True\n"
     ]
    }
   ],
   "source": [
    "# Arithmetic operations\n",
    "total = my_integer + my_float\n",
    "difference = my_integer - my_float\n",
    "product = my_integer * my_float\n",
    "quotient = my_integer / my_float\n",
    "\n",
    "x = 3\n",
    "# x = x + 1\n",
    "x += 1\n",
    "\n",
    "y = 5\n",
    "# y = y - 1\n",
    "y -= 1\n",
    "# ...\n",
    "\n",
    "# Comparison operations\n",
    "is_less = my_integer < my_float\n",
    "is_greater = my_integer > my_float\n",
    "\n",
    "# Logical operations\n",
    "and_result = (my_integer < my_float) and is_valid\n",
    "or_result = (my_integer > my_float) or is_valid\n",
    "\n",
    "# Printing results\n",
    "print(total, difference, product, quotient)\n",
    "print(is_less, is_greater)\n",
    "print(and_result, or_result)"
   ]
  },
  {
   "cell_type": "markdown",
   "id": "5e3e1fbc-b7ca-4903-b587-05009a7d16d2",
   "metadata": {},
   "source": [
    "# Data Structures"
   ]
  },
  {
   "cell_type": "markdown",
   "id": "f25d17aa-0e20-4394-a759-4add863a0d27",
   "metadata": {},
   "source": [
    "### Lists"
   ]
  },
  {
   "cell_type": "markdown",
   "id": "c3308f9d-4add-4661-8666-ad4b5018f8e2",
   "metadata": {},
   "source": [
    "##### Lists are used to store multiple items in a single variable. They are ordered, changeable, and allow duplicate values. Lists are very versatile and are commonly used to store collections of related data."
   ]
  },
  {
   "cell_type": "code",
   "execution_count": 6,
   "id": "cea3180c-04b0-4ab4-8b7b-62d7477dc5e3",
   "metadata": {},
   "outputs": [
    {
     "name": "stdout",
     "output_type": "stream",
     "text": [
      "[10, 3, 4, 5]\n",
      "[100, 9, 16, 25]\n"
     ]
    }
   ],
   "source": [
    "# Creating and modifying lists\n",
    "numbers = [1, 2, 3, 4]\n",
    "numbers.append(5)\n",
    "numbers.remove(2)\n",
    "numbers[0] = 10\n",
    "\n",
    "# List comprehension\n",
    "squares = [n**2 for n in numbers]\n",
    "\n",
    "print(numbers)\n",
    "print(squares)"
   ]
  },
  {
   "cell_type": "markdown",
   "id": "9a0601d6-faae-4428-9b84-5b017a8f70f1",
   "metadata": {},
   "source": [
    "### List Methods"
   ]
  },
  {
   "cell_type": "markdown",
   "id": "b46747b5-09be-4565-8ab5-9f8ff60e5293",
   "metadata": {},
   "source": [
    "##### Python provides a variety of built-in methods for working with lists. These methods allow you to modify, sort, and analyze list elements easily. Knowing these methods can significantly simplify your code and make it more efficient."
   ]
  },
  {
   "cell_type": "code",
   "execution_count": 63,
   "id": "cae08977-048f-4d31-849d-4f01aa51560d",
   "metadata": {},
   "outputs": [
    {
     "name": "stdout",
     "output_type": "stream",
     "text": [
      "['cherry', 'blueberry', 'apple']\n",
      "3\n",
      "melon\n"
     ]
    }
   ],
   "source": [
    "# Common list methods\n",
    "fruits = [\"apple\", \"banana\", \"cherry\"]\n",
    "fruits.append(\"melon\")\n",
    "fruits.insert(1, \"blueberry\")\n",
    "fruits.remove(\"banana\")\n",
    "last_fruit = fruits.pop()\n",
    "fruits.sort()\n",
    "fruits.reverse()\n",
    "item_count = len(fruits)\n",
    "\n",
    "print(fruits)\n",
    "print(item_count)\n",
    "print(last_fruit)"
   ]
  },
  {
   "cell_type": "markdown",
   "id": "3bdf5dc6-c257-416e-9909-6596da0d3e77",
   "metadata": {},
   "source": [
    "### Tuples"
   ]
  },
  {
   "cell_type": "markdown",
   "id": "9202b95b-6d39-496f-8117-4aa610a8a450",
   "metadata": {},
   "source": [
    "##### Tuples are similar to lists but there is a difference: they are immutable, so their values cannot be changed after they are created. Tuples are often used for fixed collections of items and can be more efficient than lists in certain situations."
   ]
  },
  {
   "cell_type": "code",
   "execution_count": 13,
   "id": "0dbc6513-c8e9-4e88-b8f4-0fe1c2c012e1",
   "metadata": {},
   "outputs": [
    {
     "name": "stdout",
     "output_type": "stream",
     "text": [
      "(10, 20) 10 20\n"
     ]
    }
   ],
   "source": [
    "# Creating and accessing tuples\n",
    "coordinates = (10, 20)\n",
    "x = coordinates[0]\n",
    "y = coordinates[1]\n",
    "# coordinate[0] = 30  # gives an error\n",
    "\n",
    "print(coordinates, x, y)"
   ]
  },
  {
   "cell_type": "markdown",
   "id": "70415c03-f511-4b1f-8fbe-19cb366581a0",
   "metadata": {},
   "source": [
    "### Dictionaries"
   ]
  },
  {
   "cell_type": "markdown",
   "id": "70d9cc23-8364-429b-afe1-8926d99d9048",
   "metadata": {},
   "source": [
    "##### Dictionaries are unordered collections of items in the form of key-value pairs. They are incredibly useful for storing data and they can be quickly retrieved using unique key."
   ]
  },
  {
   "cell_type": "code",
   "execution_count": 15,
   "id": "7e0baac8-90cc-4d7a-b8bb-ba50aa0d3997",
   "metadata": {},
   "outputs": [
    {
     "name": "stdout",
     "output_type": "stream",
     "text": [
      "{'name': 'John', 'age': 31, 'city': 'New York', 'is_married': True} 31\n",
      "dict_keys(['name', 'age', 'city', 'is_married']) dict_values(['John', 31, 'New York', True]) dict_items([('name', 'John'), ('age', 31), ('city', 'New York'), ('is_married', True)])\n"
     ]
    }
   ],
   "source": [
    "# Creating and accessing dictionaries\n",
    "person = {\"name\": \"John\", \"age\": 30, \"city\": \"New York\"}\n",
    "person[\"age\"] = 31\n",
    "person_age = person[\"age\"]\n",
    "person['is_married'] = True\n",
    "\n",
    "# Dictionary methods\n",
    "keys = person.keys()\n",
    "values = person.values()\n",
    "items = person.items()\n",
    "\n",
    "print(person, person_age)\n",
    "print(keys, values, items)"
   ]
  },
  {
   "cell_type": "markdown",
   "id": "6cd5023b-eee7-4f30-a8b7-4da392d08307",
   "metadata": {},
   "source": [
    "### Sets"
   ]
  },
  {
   "cell_type": "markdown",
   "id": "186faed1-c11c-4818-b571-6f41291b65e3",
   "metadata": {},
   "source": [
    "##### Sets are unordered collections of unique items. They are commonly used to remove duplicates in lists"
   ]
  },
  {
   "cell_type": "code",
   "execution_count": 20,
   "id": "2d739673-2767-4e4c-9e4b-2c0828884307",
   "metadata": {},
   "outputs": [
    {
     "name": "stdout",
     "output_type": "stream",
     "text": [
      "{1, 2, 4, 5, 6}\n",
      "{1, 2, 3, 4, 5, 6, 7}\n"
     ]
    }
   ],
   "source": [
    "# Creating and modifying sets\n",
    "unique_numbers = {1, 2, 3, 4, 5}\n",
    "unique_numbers.add(6)\n",
    "unique_numbers.add(6)\n",
    "unique_numbers.remove(3)\n",
    "\n",
    "my_numbers = [1, 2, 3, 4, 4, 5, 6, 5, 5, 7, 7]\n",
    "without_duplicates = set(my_numbers)\n",
    "\n",
    "print(unique_numbers)\n",
    "print(without_duplicates)"
   ]
  },
  {
   "cell_type": "markdown",
   "id": "7fc189f2-d4fe-409f-a619-4940bfa12ff6",
   "metadata": {},
   "source": [
    "# Control Flow"
   ]
  },
  {
   "cell_type": "markdown",
   "id": "6e953bb1-1c51-40fe-be7b-d6d7ad41bda9",
   "metadata": {},
   "source": [
    "### Conditional Statements"
   ]
  },
  {
   "cell_type": "markdown",
   "id": "4fee5b40-473d-4350-a54f-b1f665beb7b0",
   "metadata": {},
   "source": [
    "##### Used to execute different code blocks based on certain conditions. Allow us to make decisions in our code. They include `if`, `elif`, and `else` statements."
   ]
  },
  {
   "cell_type": "code",
   "execution_count": 29,
   "id": "9262d1bd-f269-47e7-9da5-4a9d17bb875f",
   "metadata": {},
   "outputs": [
    {
     "name": "stdout",
     "output_type": "stream",
     "text": [
      "It is true\n",
      "It's a little cold.\n"
     ]
    }
   ],
   "source": [
    "# if, elif, else\n",
    "my_condition = True\n",
    "\n",
    "if my_condition:\n",
    "    print('It is true')\n",
    "else:\n",
    "    print('It is false')\n",
    "\n",
    "temperature = 21\n",
    "\n",
    "if temperature < 15:\n",
    "    print(\"It's too cold.\")\n",
    "elif temperature >= 15 and temperature < 25 :\n",
    "    print(\"It's a little cold.\")\n",
    "elif temperature == 25:\n",
    "    print(\"It's perfect.\")\n",
    "elif temperature > 25 and temperature <= 40:\n",
    "    print(\"It's a little warm\")\n",
    "else:\n",
    "    print(\"It's too warm.\")"
   ]
  },
  {
   "cell_type": "markdown",
   "id": "a0446b95-ae61-4c39-ba8c-ee2de98fa7ca",
   "metadata": {},
   "source": [
    "### Loops"
   ]
  },
  {
   "cell_type": "markdown",
   "id": "80e4e696-cd95-43f2-b8b0-6a8d11ad93b9",
   "metadata": {},
   "source": [
    "##### Loops are used to execute a block of code repeatedly. There are `for` and `while` loops. `for` loops are used to iterate over a sequence of elements, `while` loops continue executing as long as a condition is true."
   ]
  },
  {
   "cell_type": "code",
   "execution_count": 31,
   "id": "f4cfeb13-5781-439d-bcc7-37d5138725db",
   "metadata": {},
   "outputs": [
    {
     "name": "stdout",
     "output_type": "stream",
     "text": [
      "1\n",
      "2\n",
      "3\n",
      "4\n",
      "5\n",
      "0\n",
      "1\n",
      "2\n",
      "3\n",
      "1\n",
      "2\n",
      "3\n",
      "4\n",
      "5\n",
      "1\n",
      "2\n",
      "3\n",
      "4\n",
      "5\n"
     ]
    }
   ],
   "source": [
    "# for loop\n",
    "for i in range(1, 6):\n",
    "    print(i)\n",
    "\n",
    "for j in range(4):\n",
    "    print(j)\n",
    "\n",
    "# while loop\n",
    "counter = 1\n",
    "while counter <= 5:\n",
    "    print(counter)\n",
    "    counter += 1\n",
    "\n",
    "# while True Loop\n",
    "counter = 1\n",
    "while True:\n",
    "    print(counter)\n",
    "    if counter == 5:\n",
    "        break\n",
    "    counter += 1"
   ]
  },
  {
   "cell_type": "markdown",
   "id": "7f5b1621-3f2f-4603-875c-a971ab29777d",
   "metadata": {},
   "source": [
    "### Loop Control Statements"
   ]
  },
  {
   "cell_type": "markdown",
   "id": "bccf2277-6273-4a09-a4a3-32703085f038",
   "metadata": {},
   "source": [
    "##### Loop control statements like `break`, `continue`, and `pass` modify the behavior of loops. `break` exits the loop, `continue` skips the current iteration, and `pass` does nothing and can be used as a placeholder."
   ]
  },
  {
   "cell_type": "code",
   "execution_count": 34,
   "id": "15dc15d9-bda9-4df1-a859-37494e2c4afe",
   "metadata": {},
   "outputs": [
    {
     "name": "stdout",
     "output_type": "stream",
     "text": [
      "1\n",
      "3\n",
      "5\n"
     ]
    }
   ],
   "source": [
    "# break, continue, pass\n",
    "for number in range(1, 11):\n",
    "    if number == 7:\n",
    "        break  # ends the loop when it finds 7\n",
    "    elif number % 2 == 0:\n",
    "        continue # skips the even numbers\n",
    "    print(number)\n",
    "\n",
    "for i in range(4):\n",
    "    pass"
   ]
  },
  {
   "cell_type": "markdown",
   "id": "27059384-3b34-4c7c-956e-76baa91945ff",
   "metadata": {},
   "source": [
    "# Functions "
   ]
  },
  {
   "cell_type": "markdown",
   "id": "3928c726-9eed-40e9-ad28-e0b38d7ea590",
   "metadata": {},
   "source": [
    "### Defining Functions"
   ]
  },
  {
   "cell_type": "markdown",
   "id": "3dc8fad6-4d48-4c9f-a98b-8735605e0a5e",
   "metadata": {},
   "source": [
    "##### Functions are reusable blocks of code that perform a specific task. They help organizing your code into manageable sections. Functions can take inputs (parameters) and return outputs."
   ]
  },
  {
   "cell_type": "code",
   "execution_count": 44,
   "id": "23267dea-038f-48d5-a947-b66dee6793d0",
   "metadata": {},
   "outputs": [
    {
     "name": "stdout",
     "output_type": "stream",
     "text": [
      "Hello, World!\n",
      "Hello Marry, my name is John\n",
      "35\n",
      "[3, 2, 1]\n"
     ]
    }
   ],
   "source": [
    "# def keyword\n",
    "def say_hello():\n",
    "    print('Hello, World!')\n",
    "\n",
    "say_hello()\n",
    "\n",
    "def greet(my_name, your_name):\n",
    "    print('Hello ' + your_name + ', my name is ' + my_name)\n",
    "\n",
    "greet('John', 'Marry')\n",
    "    \n",
    "def multiply(a, b):\n",
    "    return a * b\n",
    "\n",
    "# Parameters and arguments\n",
    "product = multiply(7, 5)\n",
    "\n",
    "my_list = [1, 2, 3]\n",
    "def reverse_list():\n",
    "    my_list.reverse()\n",
    "\n",
    "reversed_list = reverse_list()\n",
    "\n",
    "print(product)\n",
    "print(my_list)"
   ]
  },
  {
   "cell_type": "markdown",
   "id": "8d912872-c4df-4816-91c2-675d26b72515",
   "metadata": {},
   "source": [
    "# Error Handling"
   ]
  },
  {
   "cell_type": "markdown",
   "id": "aa3a6190-51c5-45b5-bc91-43e98371685d",
   "metadata": {},
   "source": [
    "##### Error handling allows you to manage errors without crashing the program. Using `try`, `except`, and `finally`, you can handle exceptions and execute code regardless of whether an error occurred."
   ]
  },
  {
   "cell_type": "code",
   "execution_count": 48,
   "id": "75d29cca-e972-48f6-8935-cb79b69f8a27",
   "metadata": {},
   "outputs": [
    {
     "name": "stdout",
     "output_type": "stream",
     "text": [
      "There is an error but the program did not crush.\n",
      "Cannot divide by zero!\n",
      "Execution finished.\n"
     ]
    }
   ],
   "source": [
    "# try, except, finally\n",
    "try:\n",
    "    result = 10 / 0\n",
    "except:\n",
    "    print(\"There is an error but the program did not crush.\")\n",
    "\n",
    "try:\n",
    "    result = 10 / 0\n",
    "except ZeroDivisionError:\n",
    "    print(\"Cannot divide by zero!\")\n",
    "finally:\n",
    "    print(\"Execution finished.\")"
   ]
  },
  {
   "cell_type": "markdown",
   "id": "4f76ac36-bbb1-4a3d-ad34-6859f03ae429",
   "metadata": {},
   "source": [
    "# Modules and Libraries"
   ]
  },
  {
   "cell_type": "markdown",
   "id": "21c52d7c-7a27-4b62-a042-2f99aa427d49",
   "metadata": {},
   "source": [
    "### Using Modules and Libraries"
   ]
  },
  {
   "cell_type": "markdown",
   "id": "383e5e93-f1af-4677-b451-0ab530c6e690",
   "metadata": {},
   "source": [
    "##### Python has standard libraries and third-party modules. You can import these modules into your script to use pre-written functions and classes."
   ]
  },
  {
   "cell_type": "code",
   "execution_count": 49,
   "id": "10161d3a-c74d-479a-a50f-7689abf08acf",
   "metadata": {},
   "outputs": [
    {
     "name": "stdout",
     "output_type": "stream",
     "text": [
      "3.141592653589793 2024-07-20 03:24:16.486497\n"
     ]
    }
   ],
   "source": [
    "# import and from...import\n",
    "import math\n",
    "from datetime import datetime\n",
    "\n",
    "# Simple examples\n",
    "pi_value = math.pi\n",
    "current_time = datetime.now()\n",
    "\n",
    "print(pi_value, current_time)"
   ]
  },
  {
   "cell_type": "code",
   "execution_count": 50,
   "id": "13b9fb46-21f5-49c5-8fbe-a4b1659bef85",
   "metadata": {},
   "outputs": [
    {
     "name": "stdout",
     "output_type": "stream",
     "text": [
      "      Name  Score\n",
      "0    Alice     85\n",
      "1      Bob     90\n",
      "2  Charlie     95\n"
     ]
    }
   ],
   "source": [
    "import pandas as pd\n",
    "\n",
    "data = {\"Name\": [\"Alice\", \"Bob\", \"Charlie\"], \"Score\": [85, 90, 95]}\n",
    "df = pd.DataFrame(data)\n",
    "print(df)"
   ]
  },
  {
   "cell_type": "markdown",
   "id": "7b36d4a1-549e-4163-85ac-fed50a0940d8",
   "metadata": {},
   "source": [
    "# File Operations"
   ]
  },
  {
   "cell_type": "markdown",
   "id": "0e4bd00c-28fe-4521-a0e7-887dc5ece0f7",
   "metadata": {},
   "source": [
    "##### Working with files is a common task in programming. You can read from and write to files using Python."
   ]
  },
  {
   "cell_type": "code",
   "execution_count": 54,
   "id": "681d9ac3-dc0a-4106-8d8b-2caafe108875",
   "metadata": {},
   "outputs": [
    {
     "name": "stdout",
     "output_type": "stream",
     "text": [
      "Python programming is powerful!\n",
      "Python programming is powerful!\n",
      "And I love it!\n"
     ]
    }
   ],
   "source": [
    "# Creating and writing to a file\n",
    "with open(\"output.txt\", \"w\") as file:\n",
    "    file.write(\"Python programming is powerful!\")\n",
    "\n",
    "# Reading from a file\n",
    "with open(\"output.txt\", \"r\") as file:\n",
    "    content_beginning = file.read()\n",
    "\n",
    "# Writing to an existing file\n",
    "with open('output.txt', 'a') as f:\n",
    "    f.write('\\nAnd I love it!')\n",
    "\n",
    "with open(\"output.txt\", \"r\") as file:\n",
    "    content_end = file.read()\n",
    "\n",
    "print(content_beginning)\n",
    "print(content_end)"
   ]
  },
  {
   "cell_type": "markdown",
   "id": "be25ad1e-288b-4166-b346-3229fc81cebd",
   "metadata": {},
   "source": [
    "# Strings and String Methods"
   ]
  },
  {
   "cell_type": "markdown",
   "id": "1cffcd64-b285-4db8-9a49-5a12d4dd6431",
   "metadata": {},
   "source": [
    "### String Basics"
   ]
  },
  {
   "cell_type": "markdown",
   "id": "a6fadb6f-c250-41ed-9beb-e7e0d85aa9e6",
   "metadata": {},
   "source": [
    "##### Strings are sequences of characters. They are used for handling text and can be manipulated (this does not mean they are mutable)."
   ]
  },
  {
   "cell_type": "code",
   "execution_count": 55,
   "id": "95446fb1-721d-408f-a0d2-80688e999cd5",
   "metadata": {},
   "outputs": [
    {
     "name": "stdout",
     "output_type": "stream",
     "text": [
      "Hello, World! Welcome, Sam!\n",
      "Hello, World! How are you, Sam?\n"
     ]
    }
   ],
   "source": [
    "# Creating and manipulating strings\n",
    "message = \"Hello, World!\"\n",
    "name = \"Sam\"\n",
    "\n",
    "# Concatenation\n",
    "full_message = message + \" Welcome, \" + name + \"!\"\n",
    "\n",
    "# String formatting\n",
    "formatted_message = f\"{message} How are you, {name}?\"\n",
    "\n",
    "print(full_message)\n",
    "print(formatted_message)"
   ]
  },
  {
   "cell_type": "markdown",
   "id": "d3d61003-4eb1-43b5-8fb9-d03de0f39c8e",
   "metadata": {},
   "source": [
    "### Common String Methods"
   ]
  },
  {
   "cell_type": "markdown",
   "id": "8d096b00-17c5-43ea-8301-005b8113c356",
   "metadata": {},
   "source": [
    "##### Python provides several built-in methods for manipulating strings. These methods include changing case, trimming whitespace, and replacing substrings. They do NOT change the string, just return a changed version."
   ]
  },
  {
   "cell_type": "code",
   "execution_count": 57,
   "id": "8e5fff36-d215-49d8-8b10-7ec284998a83",
   "metadata": {},
   "outputs": [
    {
     "name": "stdout",
     "output_type": "stream",
     "text": [
      "  python programming!  \n",
      "  PYTHON PROGRAMMING!  \n",
      "Python Programming!\n",
      "  Python Coding!  \n",
      "['', '', 'Python', 'Programming!', '', '']\n",
      "  Python Programming!  \n"
     ]
    }
   ],
   "source": [
    "# String methods\n",
    "text = \"  Python Programming!  \"\n",
    "print(text.lower())\n",
    "print(text.upper())\n",
    "print(text.strip())\n",
    "print(text.replace(\"Programming\", \"Coding\"))\n",
    "print(text.split(\" \"))\n",
    "print(text)"
   ]
  },
  {
   "cell_type": "markdown",
   "id": "b0aff7d5-578c-450c-adae-b6fdf3dcbcd6",
   "metadata": {},
   "source": [
    "# MINI PROJECT, To-Do List"
   ]
  },
  {
   "cell_type": "code",
   "execution_count": 71,
   "id": "0a17f383-ea38-4f6d-84f5-fb7ece6a6b91",
   "metadata": {},
   "outputs": [
    {
     "name": "stdout",
     "output_type": "stream",
     "text": [
      "'Go shopping' task added.\n",
      "'Study for exam' task added.\n",
      "'Clean the house' task added.\n",
      "\n",
      "To-Do List:\n",
      "   Go shopping\n",
      "   Study for exam\n",
      "   Clean the house\n",
      "\n",
      "Complete 2nd task:\n",
      "Study for exam has been completed.\n",
      "   Go shopping\n",
      "   Clean the house\n",
      "\n",
      "Remove 1st task:\n",
      "Go shopping has been removed.\n",
      "   Clean the house\n"
     ]
    }
   ],
   "source": [
    "\n",
    "todo_list = []\n",
    "\n",
    "# Function to add a task\n",
    "def add_task(task):\n",
    "    todo_list.append(task)\n",
    "    print(f\"'{task}' task added.\")\n",
    "\n",
    "# Function to list all tasks\n",
    "def list_tasks():\n",
    "    if len(todo_list) == 0:\n",
    "        print(\"No tasks in the to-do list.\")\n",
    "    else:\n",
    "        for task in todo_list:\n",
    "            print('   ' + task)\n",
    "\n",
    "# Function to complete a task\n",
    "def complete_task(task_index):\n",
    "    if 0 <= task_index < len(todo_list) != 0:\n",
    "        completed_task = todo_list[task_index]\n",
    "        todo_list.remove(completed_task)\n",
    "        print(f\"{completed_task} has been completed.\")\n",
    "    else:\n",
    "        print(\"Invalid task number.\")\n",
    "\n",
    "def remove_task(task_index):\n",
    "    if 0 <= task_index < len(todo_list) != 0:\n",
    "        completed_task = todo_list[task_index]\n",
    "        todo_list.remove(completed_task)\n",
    "        print(f\"{completed_task} has been removed.\")\n",
    "    else:\n",
    "        print(\"Invalid task number.\")\n",
    "\n",
    "\n",
    "\n",
    "# Example usage\n",
    "add_task(\"Go shopping\")\n",
    "add_task(\"Study for exam\")\n",
    "add_task(\"Clean the house\")\n",
    "\n",
    "print(\"\\nTo-Do List:\")\n",
    "list_tasks()\n",
    "\n",
    "print(\"\\nComplete 2nd task:\")\n",
    "complete_task(1)\n",
    "list_tasks()\n",
    "\n",
    "print(\"\\nRemove 1st task:\")\n",
    "remove_task(0)\n",
    "list_tasks()\n"
   ]
  },
  {
   "cell_type": "markdown",
   "id": "f63e1195-bb01-4419-b220-96137e23ed2a",
   "metadata": {},
   "source": [
    "# Object-Oriented Programming (OOP)"
   ]
  },
  {
   "cell_type": "markdown",
   "id": "e9d1b263-6846-4495-97c7-cee8fada1428",
   "metadata": {},
   "source": [
    "### Classes and Objects"
   ]
  },
  {
   "cell_type": "markdown",
   "id": "87df65c5-56d2-4985-b809-b29354e51d58",
   "metadata": {},
   "source": [
    "##### Object-Oriented Programming (OOP) uses classes and objects. Classes define the structure and behavior of objects, and objects are instances of classes. OOP helps in organizing code and managing complexity."
   ]
  },
  {
   "cell_type": "code",
   "execution_count": 59,
   "id": "a4b879d4-be5b-44b5-9a29-e15754840a9f",
   "metadata": {},
   "outputs": [
    {
     "name": "stdout",
     "output_type": "stream",
     "text": [
      "Cat\n",
      "Grape\n",
      "Grape makes a sound.\n"
     ]
    }
   ],
   "source": [
    "# Defining a class\n",
    "class Animal:\n",
    "    def __init__(self, species, name):\n",
    "        self.species = species\n",
    "        self.name = name\n",
    "    \n",
    "    def speak(self):\n",
    "        return f\"{self.name} makes a sound.\"\n",
    "\n",
    "# Creating an object\n",
    "my_cat = Animal(\"Cat\", \"Grape\")\n",
    "\n",
    "# Accessing attributes and methods\n",
    "print(my_cat.species)\n",
    "print(my_cat.name)\n",
    "print(my_cat.speak())"
   ]
  },
  {
   "cell_type": "markdown",
   "id": "0768c771-68d1-40f0-8edc-3d5e2ddab508",
   "metadata": {},
   "source": [
    "### Inheritance and Polymorphism"
   ]
  },
  {
   "cell_type": "markdown",
   "id": "6f9977bd-0646-48cb-a90c-b7e6d8de6e14",
   "metadata": {},
   "source": [
    "##### Inheritance allows a class to inherit attributes and methods from another class. It provides code reusability and establishes a relationship between classes. The new class (subclass or child class) can override the functionality of the existing class (base class or parent class).\n",
    "\n",
    "Polymorphism allows methods to do different things based on the object. \n",
    "\n"
   ]
  },
  {
   "cell_type": "code",
   "execution_count": 61,
   "id": "ab7748a6-ca1a-40c7-835d-c5e1e01d6558",
   "metadata": {},
   "outputs": [
    {
     "name": "stdout",
     "output_type": "stream",
     "text": [
      "Maya is 3 years old.\n",
      "Meow\n",
      "Boldy is 5 years old.\n",
      "Woof\n",
      "Bessie is 2 years old.\n",
      "Moo\n"
     ]
    }
   ],
   "source": [
    "# Defining the base class\n",
    "class Animal:\n",
    "    def __init__(self, name, age):\n",
    "        self.name = name\n",
    "        self.age = age\n",
    "\n",
    "    def make_sound(self):\n",
    "        pass\n",
    "\n",
    "    def info(self):\n",
    "        return f\"{self.name} is {self.age} years old.\"\n",
    "\n",
    "# Defining the Cat subclass\n",
    "class Cat(Animal):\n",
    "    def make_sound(self):\n",
    "        return \"Meow\"\n",
    "\n",
    "# Defining the Dog subclass\n",
    "class Dog(Animal):\n",
    "    def make_sound(self):\n",
    "        return \"Woof\"\n",
    "\n",
    "# Defining the Cow subclass\n",
    "class Cow(Animal):\n",
    "    def make_sound(self):\n",
    "        return \"Moo\"\n",
    "\n",
    "# Creating objects of each subclass\n",
    "my_cat = Cat(\"Maya\", 3)  # inheritance --> we can use the init method of parent even we have not define any in the child class\n",
    "my_dog = Dog(\"Boldy\", 5)\n",
    "my_cow = Cow(\"Bessie\", 2)\n",
    "\n",
    "# Accessing attributes and methods\n",
    "print(my_cat.info()) # --> inheritance again. We did not define any info() method but we can use it\n",
    "print(my_cat.make_sound()) # polymorphism --> we are calling the same method but they behave differently for every object\n",
    "\n",
    "print(my_dog.info())\n",
    "print(my_dog.make_sound())\n",
    "\n",
    "print(my_cow.info())\n",
    "print(my_cow.make_sound())\n"
   ]
  }
 ],
 "metadata": {
  "kernelspec": {
   "display_name": "Python 3 (ipykernel)",
   "language": "python",
   "name": "python3"
  },
  "language_info": {
   "codemirror_mode": {
    "name": "ipython",
    "version": 3
   },
   "file_extension": ".py",
   "mimetype": "text/x-python",
   "name": "python",
   "nbconvert_exporter": "python",
   "pygments_lexer": "ipython3",
   "version": "3.12.4"
  }
 },
 "nbformat": 4,
 "nbformat_minor": 5
}
